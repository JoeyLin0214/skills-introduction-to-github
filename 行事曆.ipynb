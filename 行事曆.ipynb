{
  "nbformat": 4,
  "nbformat_minor": 0,
  "metadata": {
    "colab": {
      "provenance": []
    },
    "kernelspec": {
      "name": "python3",
      "display_name": "Python 3"
    },
    "language_info": {
      "name": "python"
    }
  },
  "cells": [
    {
      "cell_type": "code",
      "source": [
        "!pip install transformers\n",
        "!pip install dateparser\n",
        "!pip install hanlp\n",
        "!pip install regex"
      ],
      "metadata": {
        "colab": {
          "base_uri": "https://localhost:8080/"
        },
        "collapsed": true,
        "id": "ACCXwuD3XnRQ",
        "outputId": "b0f9c7f4-541b-4e18-e140-6ad6f9224550"
      },
      "execution_count": 2,
      "outputs": [
        {
          "output_type": "stream",
          "name": "stdout",
          "text": [
            "Requirement already satisfied: transformers in /usr/local/lib/python3.11/dist-packages (4.52.4)\n",
            "Requirement already satisfied: filelock in /usr/local/lib/python3.11/dist-packages (from transformers) (3.18.0)\n",
            "Requirement already satisfied: huggingface-hub<1.0,>=0.30.0 in /usr/local/lib/python3.11/dist-packages (from transformers) (0.32.4)\n",
            "Requirement already satisfied: numpy>=1.17 in /usr/local/lib/python3.11/dist-packages (from transformers) (2.0.2)\n",
            "Requirement already satisfied: packaging>=20.0 in /usr/local/lib/python3.11/dist-packages (from transformers) (24.2)\n",
            "Requirement already satisfied: pyyaml>=5.1 in /usr/local/lib/python3.11/dist-packages (from transformers) (6.0.2)\n",
            "Requirement already satisfied: regex!=2019.12.17 in /usr/local/lib/python3.11/dist-packages (from transformers) (2024.11.6)\n",
            "Requirement already satisfied: requests in /usr/local/lib/python3.11/dist-packages (from transformers) (2.32.3)\n",
            "Requirement already satisfied: tokenizers<0.22,>=0.21 in /usr/local/lib/python3.11/dist-packages (from transformers) (0.21.1)\n",
            "Requirement already satisfied: safetensors>=0.4.3 in /usr/local/lib/python3.11/dist-packages (from transformers) (0.5.3)\n",
            "Requirement already satisfied: tqdm>=4.27 in /usr/local/lib/python3.11/dist-packages (from transformers) (4.67.1)\n",
            "Requirement already satisfied: fsspec>=2023.5.0 in /usr/local/lib/python3.11/dist-packages (from huggingface-hub<1.0,>=0.30.0->transformers) (2025.3.2)\n",
            "Requirement already satisfied: typing-extensions>=3.7.4.3 in /usr/local/lib/python3.11/dist-packages (from huggingface-hub<1.0,>=0.30.0->transformers) (4.14.0)\n",
            "Requirement already satisfied: hf-xet<2.0.0,>=1.1.2 in /usr/local/lib/python3.11/dist-packages (from huggingface-hub<1.0,>=0.30.0->transformers) (1.1.2)\n",
            "Requirement already satisfied: charset-normalizer<4,>=2 in /usr/local/lib/python3.11/dist-packages (from requests->transformers) (3.4.2)\n",
            "Requirement already satisfied: idna<4,>=2.5 in /usr/local/lib/python3.11/dist-packages (from requests->transformers) (3.10)\n",
            "Requirement already satisfied: urllib3<3,>=1.21.1 in /usr/local/lib/python3.11/dist-packages (from requests->transformers) (2.4.0)\n",
            "Requirement already satisfied: certifi>=2017.4.17 in /usr/local/lib/python3.11/dist-packages (from requests->transformers) (2025.4.26)\n",
            "Requirement already satisfied: dateparser in /usr/local/lib/python3.11/dist-packages (1.2.1)\n",
            "Requirement already satisfied: python-dateutil>=2.7.0 in /usr/local/lib/python3.11/dist-packages (from dateparser) (2.9.0.post0)\n",
            "Requirement already satisfied: pytz>=2024.2 in /usr/local/lib/python3.11/dist-packages (from dateparser) (2025.2)\n",
            "Requirement already satisfied: regex!=2019.02.19,!=2021.8.27,>=2015.06.24 in /usr/local/lib/python3.11/dist-packages (from dateparser) (2024.11.6)\n",
            "Requirement already satisfied: tzlocal>=0.2 in /usr/local/lib/python3.11/dist-packages (from dateparser) (5.3.1)\n",
            "Requirement already satisfied: six>=1.5 in /usr/local/lib/python3.11/dist-packages (from python-dateutil>=2.7.0->dateparser) (1.17.0)\n",
            "Requirement already satisfied: hanlp in /usr/local/lib/python3.11/dist-packages (2.1.1)\n",
            "Requirement already satisfied: hanlp-common>=0.0.23 in /usr/local/lib/python3.11/dist-packages (from hanlp) (0.0.23)\n",
            "Requirement already satisfied: hanlp-downloader in /usr/local/lib/python3.11/dist-packages (from hanlp) (0.0.25)\n",
            "Requirement already satisfied: hanlp-trie>=0.0.4 in /usr/local/lib/python3.11/dist-packages (from hanlp) (0.0.5)\n",
            "Requirement already satisfied: pynvml in /usr/local/lib/python3.11/dist-packages (from hanlp) (12.0.0)\n",
            "Requirement already satisfied: sentencepiece>=0.1.91 in /usr/local/lib/python3.11/dist-packages (from hanlp) (0.2.0)\n",
            "Requirement already satisfied: termcolor in /usr/local/lib/python3.11/dist-packages (from hanlp) (3.1.0)\n",
            "Requirement already satisfied: toposort==1.5 in /usr/local/lib/python3.11/dist-packages (from hanlp) (1.5)\n",
            "Requirement already satisfied: torch>=1.6.0 in /usr/local/lib/python3.11/dist-packages (from hanlp) (2.6.0+cu124)\n",
            "Requirement already satisfied: transformers>=4.1.1 in /usr/local/lib/python3.11/dist-packages (from hanlp) (4.52.4)\n",
            "Requirement already satisfied: phrasetree>=0.0.9 in /usr/local/lib/python3.11/dist-packages (from hanlp-common>=0.0.23->hanlp) (0.0.9)\n",
            "Requirement already satisfied: filelock in /usr/local/lib/python3.11/dist-packages (from torch>=1.6.0->hanlp) (3.18.0)\n",
            "Requirement already satisfied: typing-extensions>=4.10.0 in /usr/local/lib/python3.11/dist-packages (from torch>=1.6.0->hanlp) (4.14.0)\n",
            "Requirement already satisfied: networkx in /usr/local/lib/python3.11/dist-packages (from torch>=1.6.0->hanlp) (3.5)\n",
            "Requirement already satisfied: jinja2 in /usr/local/lib/python3.11/dist-packages (from torch>=1.6.0->hanlp) (3.1.6)\n",
            "Requirement already satisfied: fsspec in /usr/local/lib/python3.11/dist-packages (from torch>=1.6.0->hanlp) (2025.3.2)\n",
            "Requirement already satisfied: nvidia-cuda-nvrtc-cu12==12.4.127 in /usr/local/lib/python3.11/dist-packages (from torch>=1.6.0->hanlp) (12.4.127)\n",
            "Requirement already satisfied: nvidia-cuda-runtime-cu12==12.4.127 in /usr/local/lib/python3.11/dist-packages (from torch>=1.6.0->hanlp) (12.4.127)\n",
            "Requirement already satisfied: nvidia-cuda-cupti-cu12==12.4.127 in /usr/local/lib/python3.11/dist-packages (from torch>=1.6.0->hanlp) (12.4.127)\n",
            "Requirement already satisfied: nvidia-cudnn-cu12==9.1.0.70 in /usr/local/lib/python3.11/dist-packages (from torch>=1.6.0->hanlp) (9.1.0.70)\n",
            "Requirement already satisfied: nvidia-cublas-cu12==12.4.5.8 in /usr/local/lib/python3.11/dist-packages (from torch>=1.6.0->hanlp) (12.4.5.8)\n",
            "Requirement already satisfied: nvidia-cufft-cu12==11.2.1.3 in /usr/local/lib/python3.11/dist-packages (from torch>=1.6.0->hanlp) (11.2.1.3)\n",
            "Requirement already satisfied: nvidia-curand-cu12==10.3.5.147 in /usr/local/lib/python3.11/dist-packages (from torch>=1.6.0->hanlp) (10.3.5.147)\n",
            "Requirement already satisfied: nvidia-cusolver-cu12==11.6.1.9 in /usr/local/lib/python3.11/dist-packages (from torch>=1.6.0->hanlp) (11.6.1.9)\n",
            "Requirement already satisfied: nvidia-cusparse-cu12==12.3.1.170 in /usr/local/lib/python3.11/dist-packages (from torch>=1.6.0->hanlp) (12.3.1.170)\n",
            "Requirement already satisfied: nvidia-cusparselt-cu12==0.6.2 in /usr/local/lib/python3.11/dist-packages (from torch>=1.6.0->hanlp) (0.6.2)\n",
            "Requirement already satisfied: nvidia-nccl-cu12==2.21.5 in /usr/local/lib/python3.11/dist-packages (from torch>=1.6.0->hanlp) (2.21.5)\n",
            "Requirement already satisfied: nvidia-nvtx-cu12==12.4.127 in /usr/local/lib/python3.11/dist-packages (from torch>=1.6.0->hanlp) (12.4.127)\n",
            "Requirement already satisfied: nvidia-nvjitlink-cu12==12.4.127 in /usr/local/lib/python3.11/dist-packages (from torch>=1.6.0->hanlp) (12.4.127)\n",
            "Requirement already satisfied: triton==3.2.0 in /usr/local/lib/python3.11/dist-packages (from torch>=1.6.0->hanlp) (3.2.0)\n",
            "Requirement already satisfied: sympy==1.13.1 in /usr/local/lib/python3.11/dist-packages (from torch>=1.6.0->hanlp) (1.13.1)\n",
            "Requirement already satisfied: mpmath<1.4,>=1.1.0 in /usr/local/lib/python3.11/dist-packages (from sympy==1.13.1->torch>=1.6.0->hanlp) (1.3.0)\n",
            "Requirement already satisfied: huggingface-hub<1.0,>=0.30.0 in /usr/local/lib/python3.11/dist-packages (from transformers>=4.1.1->hanlp) (0.32.4)\n",
            "Requirement already satisfied: numpy>=1.17 in /usr/local/lib/python3.11/dist-packages (from transformers>=4.1.1->hanlp) (2.0.2)\n",
            "Requirement already satisfied: packaging>=20.0 in /usr/local/lib/python3.11/dist-packages (from transformers>=4.1.1->hanlp) (24.2)\n",
            "Requirement already satisfied: pyyaml>=5.1 in /usr/local/lib/python3.11/dist-packages (from transformers>=4.1.1->hanlp) (6.0.2)\n",
            "Requirement already satisfied: regex!=2019.12.17 in /usr/local/lib/python3.11/dist-packages (from transformers>=4.1.1->hanlp) (2024.11.6)\n",
            "Requirement already satisfied: requests in /usr/local/lib/python3.11/dist-packages (from transformers>=4.1.1->hanlp) (2.32.3)\n",
            "Requirement already satisfied: tokenizers<0.22,>=0.21 in /usr/local/lib/python3.11/dist-packages (from transformers>=4.1.1->hanlp) (0.21.1)\n",
            "Requirement already satisfied: safetensors>=0.4.3 in /usr/local/lib/python3.11/dist-packages (from transformers>=4.1.1->hanlp) (0.5.3)\n",
            "Requirement already satisfied: tqdm>=4.27 in /usr/local/lib/python3.11/dist-packages (from transformers>=4.1.1->hanlp) (4.67.1)\n",
            "Requirement already satisfied: nvidia-ml-py<13.0.0a0,>=12.0.0 in /usr/local/lib/python3.11/dist-packages (from pynvml->hanlp) (12.575.51)\n",
            "Requirement already satisfied: hf-xet<2.0.0,>=1.1.2 in /usr/local/lib/python3.11/dist-packages (from huggingface-hub<1.0,>=0.30.0->transformers>=4.1.1->hanlp) (1.1.2)\n",
            "Requirement already satisfied: MarkupSafe>=2.0 in /usr/local/lib/python3.11/dist-packages (from jinja2->torch>=1.6.0->hanlp) (3.0.2)\n",
            "Requirement already satisfied: charset-normalizer<4,>=2 in /usr/local/lib/python3.11/dist-packages (from requests->transformers>=4.1.1->hanlp) (3.4.2)\n",
            "Requirement already satisfied: idna<4,>=2.5 in /usr/local/lib/python3.11/dist-packages (from requests->transformers>=4.1.1->hanlp) (3.10)\n",
            "Requirement already satisfied: urllib3<3,>=1.21.1 in /usr/local/lib/python3.11/dist-packages (from requests->transformers>=4.1.1->hanlp) (2.4.0)\n",
            "Requirement already satisfied: certifi>=2017.4.17 in /usr/local/lib/python3.11/dist-packages (from requests->transformers>=4.1.1->hanlp) (2025.4.26)\n",
            "Requirement already satisfied: regex in /usr/local/lib/python3.11/dist-packages (2024.11.6)\n"
          ]
        }
      ]
    },
    {
      "cell_type": "code",
      "source": [
        "from transformers import AutoTokenizer, AutoModelForTokenClassification, pipeline\n",
        "import dateparser\n",
        "import re\n",
        "import hanlp\n",
        "from datetime import datetime"
      ],
      "metadata": {
        "id": "3hrZDjzxXz7_"
      },
      "execution_count": 43,
      "outputs": []
    },
    {
      "cell_type": "code",
      "source": [
        "# ===== 一、初始化兩套模型 =====\n",
        "# 1. ckiplab NER\n",
        "model_name = \"ckiplab/bert-base-chinese-ner\"\n",
        "tokenizer = AutoTokenizer.from_pretrained(model_name)\n",
        "model = AutoModelForTokenClassification.from_pretrained(model_name)\n",
        "ner = pipeline(\"ner\", model=model, tokenizer=tokenizer, grouped_entities=True)\n",
        "\n",
        "# 2. HanLP\n",
        "hanlp_pipeline = hanlp.load('FINE_ELECTRA_SMALL_ZH')\n"
      ],
      "metadata": {
        "colab": {
          "base_uri": "https://localhost:8080/"
        },
        "collapsed": true,
        "id": "jono923mX5gk",
        "outputId": "46fe9813-314c-465e-87c3-3ac41524c8b7"
      },
      "execution_count": 44,
      "outputs": [
        {
          "output_type": "stream",
          "name": "stderr",
          "text": [
            "The following layers were not sharded: bert.encoder.layer.*.attention.self.key.bias, bert.encoder.layer.*.attention.self.key.weight, bert.embeddings.token_type_embeddings.weight, bert.encoder.layer.*.attention.self.query.weight, bert.embeddings.position_embeddings.weight, bert.encoder.layer.*.output.dense.weight, classifier.bias, bert.encoder.layer.*.attention.output.dense.bias, bert.embeddings.word_embeddings.weight, bert.encoder.layer.*.attention.output.LayerNorm.weight, bert.embeddings.LayerNorm.weight, bert.embeddings.LayerNorm.bias, bert.encoder.layer.*.attention.self.query.bias, classifier.weight, bert.encoder.layer.*.output.LayerNorm.weight, bert.encoder.layer.*.attention.self.value.bias, bert.encoder.layer.*.output.dense.bias, bert.encoder.layer.*.attention.output.dense.weight, bert.encoder.layer.*.attention.self.value.weight, bert.encoder.layer.*.intermediate.dense.weight, bert.encoder.layer.*.output.LayerNorm.bias, bert.encoder.layer.*.intermediate.dense.bias, bert.encoder.layer.*.attention.output.LayerNorm.bias\n",
            "Device set to use cpu\n"
          ]
        }
      ]
    },
    {
      "cell_type": "code",
      "source": [
        "# ===== 二、分析函式 =====\n",
        "\n",
        "def normalize_time(time_str, base_year=None):\n",
        "    # 正規化「下午3點」等為24小時制\n",
        "    if not time_str:\n",
        "        return None\n",
        "    year = base_year or datetime.now().year\n",
        "    # 補年份\n",
        "    time_str = re.sub(r\"^(\\d{1,2})月\", f\"{year}年\\\\1月\", time_str)\n",
        "    # AM/PM處理\n",
        "    match = re.search(r\"(下午|晚上|傍晚|中午|凌晨|早上|上午)?(\\d{1,2})點半?\", time_str)\n",
        "    if match:\n",
        "        h = int(match.group(2))\n",
        "        if match.group(1) in [\"下午\", \"晚上\", \"傍晚\"]:\n",
        "            if h < 12:\n",
        "                h += 12\n",
        "        elif match.group(1) in [\"中午\"]:\n",
        "            h = 12\n",
        "        elif match.group(1) in [\"凌晨\"]:\n",
        "            if h == 12:\n",
        "                h = 0\n",
        "        # 替換原本的時間\n",
        "        time_str = re.sub(r\"(下午|晚上|傍晚|中午|凌晨|早上|上午)?(\\d{1,2})點半?\", f\"{h:02d}:00\", time_str)\n",
        "    dt = dateparser.parse(time_str, languages=['zh'])\n",
        "    return dt\n",
        "\n",
        "def extract_location(sentence, hanlp_out):\n",
        "    # 先用 HanLP\n",
        "    if 'location' in hanlp_out and hanlp_out['location']:\n",
        "        return hanlp_out['location'][0][0]\n",
        "    # 若 HanLP沒抓到，用地點關鍵字正則補\n",
        "    # 關鍵字可依需求自行擴充\n",
        "    location_keywords = r\"(車站|大樓|館|中心|醫院|公園|學校|飯店|超市|百貨|圖書館|機場|體育館|捷運站|火車站|商場|台北車站|工學大樓|大樓|早餐店)\"\n",
        "    # 抓「2~8字」+關鍵字，如「台北車站」、「信義大樓」\n",
        "    loc_match = re.search(r\"([\\u4e00-\\u9fa5]{2,8}\" + location_keywords + \")\", sentence)\n",
        "    if loc_match:\n",
        "        return loc_match.group(0)\n",
        "    return \"\"\n",
        "\n",
        "def clean_event_desc(sentence, time_str, location):\n",
        "    desc = sentence\n",
        "    if time_str:\n",
        "        desc = desc.replace(time_str, \"\")\n",
        "    if location:\n",
        "        desc = desc.replace(location, \"\")\n",
        "    # 去掉「我在」「要到」「參加」等助詞/動詞前綴\n",
        "    desc = re.sub(r\"^[我你他她在要去到於參加前往]+\", \"\", desc)\n",
        "    desc = desc.strip(\"，。 \")\n",
        "    return desc\n"
      ],
      "metadata": {
        "id": "ksEaK5ZiYO0s"
      },
      "execution_count": 45,
      "outputs": []
    },
    {
      "cell_type": "code",
      "source": [
        "# ===== 三、主流程 (雙模型融合) =====\n",
        "sentence = \"我在6月10日下午3點要到台北車站參加論文口試\"\n",
        "\n",
        "# 1. transformers NER 預測\n",
        "ner_results = ner(sentence)\n",
        "\n",
        "# 2. HanLP 預測\n",
        "hanlp_time, hanlp_location = extract_by_hanlp(sentence)\n",
        "\n",
        "# 3. 正則抓時間\n",
        "regex_time = extract_time_regex(sentence)\n",
        "\n",
        "# 4. NER抓時間、地點\n",
        "ner_time = extract_time_ner(sentence, ner_results)\n",
        "ner_location = extract_location_ner(ner_results)\n"
      ],
      "metadata": {
        "id": "yWHzeGhlYUzG"
      },
      "execution_count": 46,
      "outputs": []
    },
    {
      "cell_type": "code",
      "source": [
        "# ===== 四、採用「最穩定」來源：優先順序 HanLP > 正則 > NER =====\n",
        "# 時間\n",
        "time_str = hanlp_time or regex_time or ner_time\n",
        "# 地點\n",
        "location = hanlp_location or ner_location\n",
        "\n",
        "# 事件描述（從原文移除時間、地點）\n",
        "event_desc = extract_event_desc(sentence, time_str, location)\n",
        "\n",
        "# 解析時間\n",
        "parsed_time = dateparser.parse(time_str, languages=['zh'])"
      ],
      "metadata": {
        "id": "G0j3ylZAYWpq"
      },
      "execution_count": 47,
      "outputs": []
    },
    {
      "cell_type": "code",
      "source": [
        "# ===== 五、最終輸出 =====\n",
        "print(\"✅ 擷取結果：\")\n",
        "print(\"🕒 時間：\", parsed_time, \"｜原文：\", time_str)\n",
        "print(\"📍 地點：\", location)\n",
        "print(\"📝 事件描述：\", event_desc)"
      ],
      "metadata": {
        "colab": {
          "base_uri": "https://localhost:8080/"
        },
        "id": "XOw6blalXZTr",
        "outputId": "786eb938-cac9-4bf6-81de-c31666ed7d21"
      },
      "execution_count": 37,
      "outputs": [
        {
          "output_type": "stream",
          "name": "stdout",
          "text": [
            "✅ 擷取結果：\n",
            "🕒 時間： None ｜原文： 禮拜二\n",
            "📍 地點： \n",
            "📝 事件描述： 我們下去吃早餐\n"
          ]
        }
      ]
    },
    {
      "cell_type": "code",
      "source": [
        "\n",
        "\n",
        "# 載入 HanLP\n",
        "hanlp_pipeline = hanlp.load('FINE_ELECTRA_SMALL_ZH')\n",
        "\n",
        "def extract_time_regex(sentence):\n",
        "    \"\"\"用正則式補捉中文時間\"\"\"\n",
        "    patterns = [\n",
        "        r\"\\d{1,2}月\\d{1,2}日[上下]午\\d{1,2}點半?\",\n",
        "        r\"\\d{1,2}月\\d{1,2}日\\d{1,2}點半?\",\n",
        "        r\"\\d{1,2}月\\d{1,2}日\\d{1,2}點\",\n",
        "        r\"\\d{1,2}月\\d{1,2}日\",\n",
        "        r\"[上下]午\\d{1,2}點半?\",\n",
        "        r\"\\d{1,2}點半?\",\n",
        "        r\"\\d{1,2}點\",\n",
        "    ]\n",
        "    regex = \"|\".join(patterns)\n",
        "    match = re.search(regex, sentence)\n",
        "    if match:\n",
        "        return match.group()\n",
        "    return \"\"\n",
        "\n",
        "def normalize_time(time_str, base_year=None):\n",
        "    \"\"\"將時間文字轉成 datetime\"\"\"\n",
        "    if not time_str:\n",
        "        return None\n",
        "    year = base_year or datetime.now().year\n",
        "    time_str = re.sub(r\"^(\\d{1,2})月\", f\"{year}年\\\\1月\", time_str)\n",
        "    # 轉換下午、晚上等詞彙\n",
        "    match = re.search(r\"(下午|晚上|傍晚|中午|凌晨|早上|上午)?(\\d{1,2})點(半)?\", time_str)\n",
        "    if match:\n",
        "        h = int(match.group(2))\n",
        "        if match.group(1) in [\"下午\", \"晚上\", \"傍晚\"] and h < 12:\n",
        "            h += 12\n",
        "        elif match.group(1) == \"中午\":\n",
        "            h = 12\n",
        "        elif match.group(1) == \"凌晨\" and h == 12:\n",
        "            h = 0\n",
        "        m = \"30\" if match.group(3) else \"00\"\n",
        "        time_str = re.sub(r\"(下午|晚上|傍晚|中午|凌晨|早上|上午)?(\\d{1,2})點(半)?\", f\"{h:02d}:{m}\", time_str)\n",
        "    dt = dateparser.parse(time_str, languages=['zh'])\n",
        "    return dt\n",
        "\n",
        "def extract_location(sentence, hanlp_out):\n",
        "    \"\"\"地點抽取：HanLP + 自訂關鍵字後綴\"\"\"\n",
        "    if 'location' in hanlp_out and hanlp_out['location']:\n",
        "        return hanlp_out['location'][0][0]\n",
        "    location_keywords = r\"(車站|大樓|館|中心|醫院|公園|學校|飯店|超市|百貨|圖書館|機場|體育館|捷運站|火車站|商場|台北車站)\"\n",
        "    loc_match = re.search(r\"[\\u4e00-\\u9fa5]{2,10}\" + location_keywords, sentence)\n",
        "    if loc_match:\n",
        "        return loc_match.group(0)\n",
        "    return \"\"\n",
        "\n",
        "def clean_event_desc(sentence, time_str, location):\n",
        "    \"\"\"移除時間與地點，留下事件描述\"\"\"\n",
        "    desc = sentence\n",
        "    if time_str:\n",
        "        desc = desc.replace(time_str, \"\")\n",
        "    if location:\n",
        "        desc = desc.replace(location, \"\")\n",
        "    desc = re.sub(r\"^[我你他她在要去到於參加前往]+\", \"\", desc)\n",
        "    return desc.strip(\"，。 \")\n",
        "\n",
        "def extract_event(sentence):\n",
        "    \"\"\"主抽取流程：時間、地點、描述\"\"\"\n",
        "    hanlp_out = hanlp_pipeline(sentence)\n",
        "\n",
        "    time_str = hanlp_out['time'][0][0] if 'time' in hanlp_out and hanlp_out['time'] else extract_time_regex(sentence)\n",
        "    parsed_time = normalize_time(time_str)\n",
        "\n",
        "    location = extract_location(sentence, hanlp_out)\n",
        "    event_desc = clean_event_desc(sentence, time_str, location)\n",
        "\n",
        "    return {\n",
        "        \"時間原文\": time_str,\n",
        "        \"時間解析\": parsed_time,\n",
        "        \"地點\": location,\n",
        "        \"事件描述\": event_desc\n",
        "    }\n",
        "\n",
        "# ==== 測試 ====\n",
        "sentence = \"我在6月10日下午3點要到台北車站參加論文口試\"\n",
        "event_info = extract_event(sentence)\n",
        "\n",
        "print(\"✅ 擷取結果：\")\n",
        "print(\"🕒 時間：\", event_info[\"時間解析\"], \"｜原文：\", event_info[\"時間原文\"])\n",
        "print(\"📍 地點：\", event_info[\"地點\"])\n",
        "print(\"📝 事件描述：\", event_info[\"事件描述\"])\n"
      ],
      "metadata": {
        "colab": {
          "base_uri": "https://localhost:8080/"
        },
        "id": "QpWw6lctoHXQ",
        "outputId": "9f7c9e1c-c848-461d-cd2a-2b5c0f02d5b6"
      },
      "execution_count": 48,
      "outputs": [
        {
          "output_type": "stream",
          "name": "stderr",
          "text": []
        },
        {
          "output_type": "stream",
          "name": "stdout",
          "text": [
            "✅ 擷取結果：\n",
            "🕒 時間： 2025-06-10 15:00:00 ｜原文： 6月10日下午3點\n",
            "📍 地點： 點要到台北車站\n",
            "📝 事件描述： 台北車站參加論文口試\n"
          ]
        }
      ]
    }
  ]
}